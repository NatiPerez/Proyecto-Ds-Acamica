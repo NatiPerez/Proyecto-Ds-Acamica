{
 "cells": [
  {
   "cell_type": "markdown",
   "metadata": {},
   "source": [
    "### 2. Análisis Exploratorio de Datos\n",
    "\n",
    "Análisis Exploratorio de Datos sobre el dataset de propiedades de Properati"
   ]
  },
  {
   "cell_type": "markdown",
   "metadata": {
    "id": "K2PLfIvLC4OK"
   },
   "source": [
    "Importa las librerías necesarias para trabajar en la consigna."
   ]
  },
  {
   "cell_type": "code",
   "execution_count": 82,
   "metadata": {
    "id": "fCGVacN5C4OM"
   },
   "outputs": [],
   "source": [
    "import numpy as np\n",
    "import pandas as pd\n",
    "import matplotlib.pyplot as plt\n",
    "import seaborn as sns"
   ]
  },
  {
   "cell_type": "markdown",
   "metadata": {
    "id": "5gWE6fwUC4OY"
   },
   "source": [
    "Carga el dataset usando las funcionalidades de Pandas. Imprimir cuántas filas y columnas tiene, y sus cinco primeras instancias."
   ]
  },
  {
   "cell_type": "code",
   "execution_count": 83,
   "metadata": {
    "id": "YL2eAd_tC4Oa",
    "scrolled": true
   },
   "outputs": [],
   "source": [
    "data = pd.read_csv('DS_Proyecto_01_Datos_Properati.csv')"
   ]
  },
  {
   "cell_type": "code",
   "execution_count": 84,
   "metadata": {
    "scrolled": true
   },
   "outputs": [
    {
     "data": {
      "text/html": [
       "<div>\n",
       "<style scoped>\n",
       "    .dataframe tbody tr th:only-of-type {\n",
       "        vertical-align: middle;\n",
       "    }\n",
       "\n",
       "    .dataframe tbody tr th {\n",
       "        vertical-align: top;\n",
       "    }\n",
       "\n",
       "    .dataframe thead th {\n",
       "        text-align: right;\n",
       "    }\n",
       "</style>\n",
       "<table border=\"1\" class=\"dataframe\">\n",
       "  <thead>\n",
       "    <tr style=\"text-align: right;\">\n",
       "      <th></th>\n",
       "      <th>start_date</th>\n",
       "      <th>end_date</th>\n",
       "      <th>created_on</th>\n",
       "      <th>lat</th>\n",
       "      <th>lon</th>\n",
       "      <th>l1</th>\n",
       "      <th>l2</th>\n",
       "      <th>l3</th>\n",
       "      <th>rooms</th>\n",
       "      <th>bedrooms</th>\n",
       "      <th>bathrooms</th>\n",
       "      <th>surface_total</th>\n",
       "      <th>surface_covered</th>\n",
       "      <th>price</th>\n",
       "      <th>currency</th>\n",
       "      <th>title</th>\n",
       "      <th>description</th>\n",
       "      <th>property_type</th>\n",
       "      <th>operation_type</th>\n",
       "    </tr>\n",
       "  </thead>\n",
       "  <tbody>\n",
       "    <tr>\n",
       "      <th>0</th>\n",
       "      <td>2019-10-17</td>\n",
       "      <td>2019-12-23</td>\n",
       "      <td>2019-10-17</td>\n",
       "      <td>-34.605880</td>\n",
       "      <td>-58.384949</td>\n",
       "      <td>Argentina</td>\n",
       "      <td>Capital Federal</td>\n",
       "      <td>San Cristobal</td>\n",
       "      <td>7.0</td>\n",
       "      <td>7.0</td>\n",
       "      <td>2.0</td>\n",
       "      <td>140.0</td>\n",
       "      <td>140.0</td>\n",
       "      <td>153000.0</td>\n",
       "      <td>USD</td>\n",
       "      <td>***Venta semipiso centro, ideal hostel*****</td>\n",
       "      <td>DESCRIPCION DE LA PROPIEDAD: Departamento de 1...</td>\n",
       "      <td>Departamento</td>\n",
       "      <td>Venta</td>\n",
       "    </tr>\n",
       "    <tr>\n",
       "      <th>1</th>\n",
       "      <td>2019-10-17</td>\n",
       "      <td>2019-11-21</td>\n",
       "      <td>2019-10-17</td>\n",
       "      <td>-34.624056</td>\n",
       "      <td>-58.412110</td>\n",
       "      <td>Argentina</td>\n",
       "      <td>Capital Federal</td>\n",
       "      <td>Boedo</td>\n",
       "      <td>2.0</td>\n",
       "      <td>1.0</td>\n",
       "      <td>2.0</td>\n",
       "      <td>70.0</td>\n",
       "      <td>58.0</td>\n",
       "      <td>159000.0</td>\n",
       "      <td>USD</td>\n",
       "      <td>Espectacular PH reciclado en Boedo sin expensas.</td>\n",
       "      <td>PH reciclado en Boedo a una cuadra de la plaz...</td>\n",
       "      <td>PH</td>\n",
       "      <td>Venta</td>\n",
       "    </tr>\n",
       "    <tr>\n",
       "      <th>2</th>\n",
       "      <td>2019-10-17</td>\n",
       "      <td>2019-11-01</td>\n",
       "      <td>2019-10-17</td>\n",
       "      <td>-34.593569</td>\n",
       "      <td>-58.427474</td>\n",
       "      <td>Argentina</td>\n",
       "      <td>Capital Federal</td>\n",
       "      <td>Palermo</td>\n",
       "      <td>2.0</td>\n",
       "      <td>1.0</td>\n",
       "      <td>1.0</td>\n",
       "      <td>45.0</td>\n",
       "      <td>45.0</td>\n",
       "      <td>125000.0</td>\n",
       "      <td>USD</td>\n",
       "      <td>Depto.tipo casa de 2 ambientes en Venta en Pal...</td>\n",
       "      <td>2 ambienets amplio , excelente estado , patio ...</td>\n",
       "      <td>PH</td>\n",
       "      <td>Venta</td>\n",
       "    </tr>\n",
       "    <tr>\n",
       "      <th>3</th>\n",
       "      <td>2019-10-17</td>\n",
       "      <td>2019-12-23</td>\n",
       "      <td>2019-10-17</td>\n",
       "      <td>-34.581294</td>\n",
       "      <td>-58.436754</td>\n",
       "      <td>Argentina</td>\n",
       "      <td>Capital Federal</td>\n",
       "      <td>Palermo</td>\n",
       "      <td>2.0</td>\n",
       "      <td>1.0</td>\n",
       "      <td>1.0</td>\n",
       "      <td>85.0</td>\n",
       "      <td>50.0</td>\n",
       "      <td>295000.0</td>\n",
       "      <td>USD</td>\n",
       "      <td>COSTA RICA 5800 / PALERMO HOLLYWOOD / VENTA PH...</td>\n",
       "      <td>HERMOSO PH EN PALERMO!!!2 AMBIENTES TOTALMENTE...</td>\n",
       "      <td>PH</td>\n",
       "      <td>Venta</td>\n",
       "    </tr>\n",
       "    <tr>\n",
       "      <th>4</th>\n",
       "      <td>2019-10-17</td>\n",
       "      <td>2020-03-11</td>\n",
       "      <td>2019-10-17</td>\n",
       "      <td>-34.914194</td>\n",
       "      <td>-57.938219</td>\n",
       "      <td>Argentina</td>\n",
       "      <td>Bs.As. G.B.A. Zona Sur</td>\n",
       "      <td>La Plata</td>\n",
       "      <td>2.0</td>\n",
       "      <td>1.0</td>\n",
       "      <td>1.0</td>\n",
       "      <td>50.0</td>\n",
       "      <td>35.0</td>\n",
       "      <td>40000.0</td>\n",
       "      <td>USD</td>\n",
       "      <td>58 entre 1 y 2  Venta de departamento en ph.1 ...</td>\n",
       "      <td>58 entre 1 y 2  Venta de departamento en PH. P...</td>\n",
       "      <td>PH</td>\n",
       "      <td>Venta</td>\n",
       "    </tr>\n",
       "  </tbody>\n",
       "</table>\n",
       "</div>"
      ],
      "text/plain": [
       "   start_date    end_date  created_on        lat        lon         l1  \\\n",
       "0  2019-10-17  2019-12-23  2019-10-17 -34.605880 -58.384949  Argentina   \n",
       "1  2019-10-17  2019-11-21  2019-10-17 -34.624056 -58.412110  Argentina   \n",
       "2  2019-10-17  2019-11-01  2019-10-17 -34.593569 -58.427474  Argentina   \n",
       "3  2019-10-17  2019-12-23  2019-10-17 -34.581294 -58.436754  Argentina   \n",
       "4  2019-10-17  2020-03-11  2019-10-17 -34.914194 -57.938219  Argentina   \n",
       "\n",
       "                       l2             l3  rooms  bedrooms  bathrooms  \\\n",
       "0         Capital Federal  San Cristobal    7.0       7.0        2.0   \n",
       "1         Capital Federal          Boedo    2.0       1.0        2.0   \n",
       "2         Capital Federal        Palermo    2.0       1.0        1.0   \n",
       "3         Capital Federal        Palermo    2.0       1.0        1.0   \n",
       "4  Bs.As. G.B.A. Zona Sur       La Plata    2.0       1.0        1.0   \n",
       "\n",
       "   surface_total  surface_covered     price currency  \\\n",
       "0          140.0            140.0  153000.0      USD   \n",
       "1           70.0             58.0  159000.0      USD   \n",
       "2           45.0             45.0  125000.0      USD   \n",
       "3           85.0             50.0  295000.0      USD   \n",
       "4           50.0             35.0   40000.0      USD   \n",
       "\n",
       "                                               title  \\\n",
       "0        ***Venta semipiso centro, ideal hostel*****   \n",
       "1   Espectacular PH reciclado en Boedo sin expensas.   \n",
       "2  Depto.tipo casa de 2 ambientes en Venta en Pal...   \n",
       "3  COSTA RICA 5800 / PALERMO HOLLYWOOD / VENTA PH...   \n",
       "4  58 entre 1 y 2  Venta de departamento en ph.1 ...   \n",
       "\n",
       "                                         description property_type  \\\n",
       "0  DESCRIPCION DE LA PROPIEDAD: Departamento de 1...  Departamento   \n",
       "1   PH reciclado en Boedo a una cuadra de la plaz...            PH   \n",
       "2  2 ambienets amplio , excelente estado , patio ...            PH   \n",
       "3  HERMOSO PH EN PALERMO!!!2 AMBIENTES TOTALMENTE...            PH   \n",
       "4  58 entre 1 y 2  Venta de departamento en PH. P...            PH   \n",
       "\n",
       "  operation_type  \n",
       "0          Venta  \n",
       "1          Venta  \n",
       "2          Venta  \n",
       "3          Venta  \n",
       "4          Venta  "
      ]
     },
     "execution_count": 84,
     "metadata": {},
     "output_type": "execute_result"
    }
   ],
   "source": [
    "data.head()"
   ]
  },
  {
   "cell_type": "markdown",
   "metadata": {},
   "source": [
    "**Tamaño del DataSet**"
   ]
  },
  {
   "cell_type": "code",
   "execution_count": 85,
   "metadata": {},
   "outputs": [
    {
     "data": {
      "text/plain": [
       "(146660, 19)"
      ]
     },
     "execution_count": 85,
     "metadata": {},
     "output_type": "execute_result"
    }
   ],
   "source": [
    "data.shape\n",
    "#El primer numero corresponde a las filas mientras que el segundo son las columnas"
   ]
  },
  {
   "cell_type": "markdown",
   "metadata": {},
   "source": [
    "Tipos de variables:"
   ]
  },
  {
   "cell_type": "code",
   "execution_count": 86,
   "metadata": {
    "scrolled": false
   },
   "outputs": [
    {
     "data": {
      "text/plain": [
       "start_date          object\n",
       "end_date            object\n",
       "created_on          object\n",
       "lat                float64\n",
       "lon                float64\n",
       "l1                  object\n",
       "l2                  object\n",
       "l3                  object\n",
       "rooms              float64\n",
       "bedrooms           float64\n",
       "bathrooms          float64\n",
       "surface_total      float64\n",
       "surface_covered    float64\n",
       "price              float64\n",
       "currency            object\n",
       "title               object\n",
       "description         object\n",
       "property_type       object\n",
       "operation_type      object\n",
       "dtype: object"
      ]
     },
     "execution_count": 86,
     "metadata": {},
     "output_type": "execute_result"
    }
   ],
   "source": [
    "data.dtypes"
   ]
  },
  {
   "cell_type": "code",
   "execution_count": 21,
   "metadata": {},
   "outputs": [
    {
     "data": {
      "text/plain": [
       "array(['Argentina'], dtype=object)"
      ]
     },
     "execution_count": 21,
     "metadata": {},
     "output_type": "execute_result"
    }
   ],
   "source": [
    "data[\"l1\"].unique()"
   ]
  },
  {
   "cell_type": "code",
   "execution_count": 22,
   "metadata": {},
   "outputs": [
    {
     "data": {
      "text/plain": [
       "array(['Venta'], dtype=object)"
      ]
     },
     "execution_count": 22,
     "metadata": {},
     "output_type": "execute_result"
    }
   ],
   "source": [
    "data[\"operation_type\"].unique()"
   ]
  },
  {
   "cell_type": "code",
   "execution_count": 23,
   "metadata": {},
   "outputs": [
    {
     "data": {
      "text/plain": [
       "array(['USD'], dtype=object)"
      ]
     },
     "execution_count": 23,
     "metadata": {},
     "output_type": "execute_result"
    }
   ],
   "source": [
    "data[\"currency\"].unique()"
   ]
  },
  {
   "cell_type": "markdown",
   "metadata": {},
   "source": [
    "Al visualizar de manera rapida las columnas del dataset podemos decir que algunas variables resultan mas relevantes que otras para el problema planteado. Por ejemplo, `lat` y `lon` son dos variables que si bien nos permiten conocer el lugar en donde se encuentra ubicada la propiedad puede individualizar los datos al igual que `description`,`title`, `start_date` y `end_date`.\n",
    "Por otro lado, en la variable `l1` observamos un solo valor ('Argentina'), al igual que`operation_type` ('Venta') y `currency` ('USD') , es por eso que se procedera a eliminarlas ya que no aportan informacion relevante al modelo."
   ]
  },
  {
   "cell_type": "code",
   "execution_count": 69,
   "metadata": {},
   "outputs": [],
   "source": [
    "data.drop([\"lat\", \"lon\",\"description\",\"title\", \"start_date\", \"end_date\",\"operation_type\", \"currency\"], axis=1, inplace=True)"
   ]
  },
  {
   "cell_type": "markdown",
   "metadata": {},
   "source": [
    "**Tipos de propiedad**: ¿Cuántos tipos de propiedad hay publicados según este dataset?¿Cuántos instancias por cada tipo de propiedad hay en el dataset?"
   ]
  },
  {
   "cell_type": "markdown",
   "metadata": {},
   "source": [
    "Cantidad de tipos de propiedades publicados"
   ]
  },
  {
   "cell_type": "code",
   "execution_count": 43,
   "metadata": {
    "scrolled": true
   },
   "outputs": [
    {
     "data": {
      "text/plain": [
       "10"
      ]
     },
     "execution_count": 43,
     "metadata": {},
     "output_type": "execute_result"
    }
   ],
   "source": [
    "len(data[\"property_type\"].value_counts())"
   ]
  },
  {
   "cell_type": "code",
   "execution_count": 44,
   "metadata": {},
   "outputs": [
    {
     "data": {
      "text/plain": [
       "Departamento       107326\n",
       "Casa                21521\n",
       "PH                  14298\n",
       "Lote                 1312\n",
       "Oficina               658\n",
       "Otro                  374\n",
       "Local comercial       325\n",
       "Casa de campo         322\n",
       "Depósito              265\n",
       "Cochera               259\n",
       "Name: property_type, dtype: int64"
      ]
     },
     "execution_count": 44,
     "metadata": {},
     "output_type": "execute_result"
    }
   ],
   "source": [
    "data[\"property_type\"].value_counts()"
   ]
  },
  {
   "cell_type": "markdown",
   "metadata": {},
   "source": [
    "Mostramos la cantidad de instancias en relacion al tipo de propiedad"
   ]
  },
  {
   "cell_type": "code",
   "execution_count": 27,
   "metadata": {},
   "outputs": [
    {
     "data": {
      "text/plain": [
       "Text(0.5, 1.0, 'Cantidad de propiedades')"
      ]
     },
     "execution_count": 27,
     "metadata": {},
     "output_type": "execute_result"
    },
    {
     "data": {
      "image/png": "[encoded data removed]",
      "text/plain": [
       "<Figure size 1080x576 with 1 Axes>"
      ]
     },
     "metadata": {
      "needs_background": "light"
     },
     "output_type": "display_data"
    }
   ],
   "source": [
    "plt.figure(figsize=(15,8))\n",
    "barras = sns.countplot(data=data, x=\"property_type\",  order = data['property_type'].value_counts().index)\n",
    "for p in barras.patches:\n",
    "    barras.annotate(format(p.get_height(), '.1f'),\n",
    "                   (p.get_x() + p.get_width() / 2., p.get_height()), \n",
    "                   ha = 'center', va = 'center', \n",
    "                   xytext = (0, 5), \n",
    "                   textcoords = 'offset points')\n",
    "\n",
    "plt.xlabel('Tipos de propiedad')\n",
    "plt.ylabel('Cantidad')\n",
    "plt.title('Cantidad de propiedades')"
   ]
  },
  {
   "cell_type": "code",
   "execution_count": 87,
   "metadata": {
    "scrolled": true
   },
   "outputs": [
    {
     "data": {
      "text/plain": [
       "Departamento       0.731801\n",
       "Casa               0.146741\n",
       "PH                 0.097491\n",
       "Lote               0.008946\n",
       "Oficina            0.004487\n",
       "Otro               0.002550\n",
       "Local comercial    0.002216\n",
       "Casa de campo      0.002196\n",
       "Depósito           0.001807\n",
       "Cochera            0.001766\n",
       "Name: property_type, dtype: float64"
      ]
     },
     "execution_count": 87,
     "metadata": {},
     "output_type": "execute_result"
    }
   ],
   "source": [
    "#Observamos los porcentajes de publicaciones por tipo de propiedad\n",
    "data['property_type'].value_counts()/len(data.property_type)"
   ]
  },
  {
   "cell_type": "markdown",
   "metadata": {},
   "source": [
    "En el grafico anterior podemos observar que la mayor cantidad de publicaciones se distribuyen en los tipos de propiedad: Departamento, Casa y PH. Es por esto que para simplificar el analisis agruparemos el resto de las propiedades en nuevo grupo llamado Otros."
   ]
  },
  {
   "cell_type": "code",
   "execution_count": null,
   "metadata": {},
   "outputs": [],
   "source": [
    "#AGRUPAR LOS TIPOS DE PROPIEDAD MAS PEQUEÑOS EN OTROS"
   ]
  },
  {
   "cell_type": "markdown",
   "metadata": {},
   "source": [
    "Los graficos a continuacion muestran las cantidad de propiedades publicadas segun la Region geografica (`l2`) y las 15 localidades mas frecuentes (`l3`)"
   ]
  },
  {
   "cell_type": "code",
   "execution_count": 45,
   "metadata": {
    "scrolled": true
   },
   "outputs": [
    {
     "data": {
      "text/plain": [
       "(array([ 0,  1,  2,  3,  4,  5,  6,  7,  8,  9, 10, 11, 12, 13, 14]),\n",
       " [Text(0, 0, 'Palermo'),\n",
       "  Text(1, 0, 'Tigre'),\n",
       "  Text(2, 0, 'Almagro'),\n",
       "  Text(3, 0, 'Belgrano'),\n",
       "  Text(4, 0, 'Caballito'),\n",
       "  Text(5, 0, 'Villa Crespo'),\n",
       "  Text(6, 0, 'Recoleta'),\n",
       "  Text(7, 0, 'La Plata'),\n",
       "  Text(8, 0, 'La Matanza'),\n",
       "  Text(9, 0, 'Pilar'),\n",
       "  Text(10, 0, 'Lomas de Zamora'),\n",
       "  Text(11, 0, 'Villa Urquiza'),\n",
       "  Text(12, 0, 'Vicente López'),\n",
       "  Text(13, 0, 'Tres de Febrero'),\n",
       "  Text(14, 0, 'Barrio Norte')])"
      ]
     },
     "execution_count": 45,
     "metadata": {},
     "output_type": "execute_result"
    },
    {
     "data": {
      "image/png": "[encoded data removed]",
      "text/plain": [
       "<Figure size 1008x720 with 2 Axes>"
      ]
     },
     "metadata": {
      "needs_background": "light"
     },
     "output_type": "display_data"
    }
   ],
   "source": [
    "f, axes = plt.subplots(2, 1,figsize=(14,10))\n",
    "\n",
    "region_geo= sns.countplot(data=data, x=\"l2\", orient = \"v\", order=data[\"l2\"].value_counts().index, ax=axes[0])\n",
    "for p in region_geo.patches:\n",
    "    region_geo.annotate(format(p.get_height(), '.1f'),\n",
    "                   (p.get_x() + p.get_width() / 2., p.get_height()), \n",
    "                   ha = 'center', va = 'center', \n",
    "                   xytext = (0, 9), \n",
    "                   textcoords = 'offset points')\n",
    "region_geo.set_xlabel(\"Region geografica\")\n",
    "region_geo.set_ylabel(\"Cantidad de registros\")\n",
    "\n",
    "localidad= sns.countplot(data=data, x=\"l3\", orient = \"v\", order=data[\"l3\"].value_counts().head(15).index, ax=axes[1])\n",
    "for p in localidad.patches:\n",
    "    localidad.annotate(format(p.get_height(), '.1f'),\n",
    "                   (p.get_x() + p.get_width() / 2., p.get_height()), \n",
    "                   ha = 'center', va = 'center', \n",
    "                   xytext = (0, 9), \n",
    "                   textcoords = 'offset points')\n",
    "localidad.set_xlabel(\"Localidad\")\n",
    "localidad.set_ylabel(\"Cantidad de registros\")\n",
    "\n",
    "plt.xticks(rotation=45)"
   ]
  },
  {
   "cell_type": "markdown",
   "metadata": {},
   "source": [
    "En terminos de Region geografica la mayor cantidad de publicaciones se concentran en Capital Federal, mientras que las 5 localidades mas frecuentes son: Palermo, Tigre, Almagro, Belgrano y Caballito."
   ]
  },
  {
   "cell_type": "code",
   "execution_count": 70,
   "metadata": {
    "scrolled": true
   },
   "outputs": [
    {
     "data": {
      "text/html": [
       "<div>\n",
       "<style scoped>\n",
       "    .dataframe tbody tr th:only-of-type {\n",
       "        vertical-align: middle;\n",
       "    }\n",
       "\n",
       "    .dataframe tbody tr th {\n",
       "        vertical-align: top;\n",
       "    }\n",
       "\n",
       "    .dataframe thead th {\n",
       "        text-align: right;\n",
       "    }\n",
       "</style>\n",
       "<table border=\"1\" class=\"dataframe\">\n",
       "  <thead>\n",
       "    <tr style=\"text-align: right;\">\n",
       "      <th></th>\n",
       "      <th>rooms</th>\n",
       "      <th>bedrooms</th>\n",
       "      <th>bathrooms</th>\n",
       "      <th>surface_total</th>\n",
       "      <th>surface_covered</th>\n",
       "      <th>price</th>\n",
       "    </tr>\n",
       "  </thead>\n",
       "  <tbody>\n",
       "    <tr>\n",
       "      <th>count</th>\n",
       "      <td>146660.000000</td>\n",
       "      <td>146660.000000</td>\n",
       "      <td>140703.000000</td>\n",
       "      <td>126133.000000</td>\n",
       "      <td>125046.000000</td>\n",
       "      <td>1.466600e+05</td>\n",
       "    </tr>\n",
       "    <tr>\n",
       "      <th>mean</th>\n",
       "      <td>3.079817</td>\n",
       "      <td>1.983240</td>\n",
       "      <td>1.599994</td>\n",
       "      <td>216.872888</td>\n",
       "      <td>112.818011</td>\n",
       "      <td>2.412211e+05</td>\n",
       "    </tr>\n",
       "    <tr>\n",
       "      <th>std</th>\n",
       "      <td>1.416352</td>\n",
       "      <td>1.151304</td>\n",
       "      <td>0.889324</td>\n",
       "      <td>2037.606649</td>\n",
       "      <td>916.857584</td>\n",
       "      <td>3.185195e+05</td>\n",
       "    </tr>\n",
       "    <tr>\n",
       "      <th>min</th>\n",
       "      <td>1.000000</td>\n",
       "      <td>0.000000</td>\n",
       "      <td>1.000000</td>\n",
       "      <td>10.000000</td>\n",
       "      <td>1.000000</td>\n",
       "      <td>5.500000e+03</td>\n",
       "    </tr>\n",
       "    <tr>\n",
       "      <th>25%</th>\n",
       "      <td>2.000000</td>\n",
       "      <td>1.000000</td>\n",
       "      <td>1.000000</td>\n",
       "      <td>52.000000</td>\n",
       "      <td>47.000000</td>\n",
       "      <td>1.110000e+05</td>\n",
       "    </tr>\n",
       "    <tr>\n",
       "      <th>50%</th>\n",
       "      <td>3.000000</td>\n",
       "      <td>2.000000</td>\n",
       "      <td>1.000000</td>\n",
       "      <td>78.000000</td>\n",
       "      <td>68.000000</td>\n",
       "      <td>1.660000e+05</td>\n",
       "    </tr>\n",
       "    <tr>\n",
       "      <th>75%</th>\n",
       "      <td>4.000000</td>\n",
       "      <td>3.000000</td>\n",
       "      <td>2.000000</td>\n",
       "      <td>140.000000</td>\n",
       "      <td>108.000000</td>\n",
       "      <td>2.650000e+05</td>\n",
       "    </tr>\n",
       "    <tr>\n",
       "      <th>max</th>\n",
       "      <td>35.000000</td>\n",
       "      <td>15.000000</td>\n",
       "      <td>14.000000</td>\n",
       "      <td>193549.000000</td>\n",
       "      <td>126062.000000</td>\n",
       "      <td>3.243423e+07</td>\n",
       "    </tr>\n",
       "  </tbody>\n",
       "</table>\n",
       "</div>"
      ],
      "text/plain": [
       "               rooms       bedrooms      bathrooms  surface_total  \\\n",
       "count  146660.000000  146660.000000  140703.000000  126133.000000   \n",
       "mean        3.079817       1.983240       1.599994     216.872888   \n",
       "std         1.416352       1.151304       0.889324    2037.606649   \n",
       "min         1.000000       0.000000       1.000000      10.000000   \n",
       "25%         2.000000       1.000000       1.000000      52.000000   \n",
       "50%         3.000000       2.000000       1.000000      78.000000   \n",
       "75%         4.000000       3.000000       2.000000     140.000000   \n",
       "max        35.000000      15.000000      14.000000  193549.000000   \n",
       "\n",
       "       surface_covered         price  \n",
       "count    125046.000000  1.466600e+05  \n",
       "mean        112.818011  2.412211e+05  \n",
       "std         916.857584  3.185195e+05  \n",
       "min           1.000000  5.500000e+03  \n",
       "25%          47.000000  1.110000e+05  \n",
       "50%          68.000000  1.660000e+05  \n",
       "75%         108.000000  2.650000e+05  \n",
       "max      126062.000000  3.243423e+07  "
      ]
     },
     "execution_count": 70,
     "metadata": {},
     "output_type": "execute_result"
    }
   ],
   "source": [
    "data.describe()"
   ]
  },
  {
   "cell_type": "markdown",
   "metadata": {},
   "source": [
    "Con el cuadro presentado anteriormente podemos observar que las variables *Precio* y *Superficie* tiene una desviacion estandar muy grande, lo que significa que sus valores estan muy dispersos, ademas, existe una gran diferencia entre los valores minimos y maximos. Esto puede generar inconvientes a la hora de predecir los precios para las distintas propiedades. "
   ]
  },
  {
   "cell_type": "markdown",
   "metadata": {},
   "source": [
    "**Valores Atipicos (Outliers)**"
   ]
  },
  {
   "cell_type": "markdown",
   "metadata": {},
   "source": [
    "Analizaremos en un primer momento la variable superficie total relacionada con los barrios 15 barrios mas publicados:"
   ]
  },
  {
   "cell_type": "code",
   "execution_count": 13,
   "metadata": {
    "scrolled": true
   },
   "outputs": [
    {
     "data": {
      "text/plain": [
       "(array([ 0,  1,  2,  3,  4,  5,  6,  7,  8,  9, 10, 11, 12, 13, 14]),\n",
       " [Text(0, 0, 'Palermo'),\n",
       "  Text(1, 0, 'La Plata'),\n",
       "  Text(2, 0, 'Villa Crespo'),\n",
       "  Text(3, 0, 'Pilar'),\n",
       "  Text(4, 0, 'Tigre'),\n",
       "  Text(5, 0, 'Almagro'),\n",
       "  Text(6, 0, 'Belgrano'),\n",
       "  Text(7, 0, 'Recoleta'),\n",
       "  Text(8, 0, 'Caballito'),\n",
       "  Text(9, 0, 'La Matanza'),\n",
       "  Text(10, 0, 'Barrio Norte'),\n",
       "  Text(11, 0, 'Villa Urquiza'),\n",
       "  Text(12, 0, 'Vicente López'),\n",
       "  Text(13, 0, 'Tres de Febrero'),\n",
       "  Text(14, 0, 'Lomas de Zamora')])"
      ]
     },
     "execution_count": 13,
     "metadata": {},
     "output_type": "execute_result"
    },
    {
     "data": {
      "image/png": "[encoded data removed]",
      "text/plain": [
       "<Figure size 1080x720 with 1 Axes>"
      ]
     },
     "metadata": {
      "needs_background": "light"
     },
     "output_type": "display_data"
    }
   ],
   "source": [
    "barrios= data[\"l3\"].value_counts()[:15].index\n",
    "\n",
    "plt.figure(figsize=(15, 10))\n",
    "sns.boxplot(data = data[data[\"l3\"].isin(barrios)], x = \"l3\", y = \"surface_total\")\n",
    "\n",
    "plt.title(\"Superficie total de los 15 barrios con más publicaciones en CABA\")\n",
    "plt.xlabel(\"Barrios\")\n",
    "plt.ylabel(\"Superficie total\")\n",
    "plt.ylim(0, 1000)\n",
    "plt.xticks(rotation=45)"
   ]
  },
  {
   "cell_type": "markdown",
   "metadata": {},
   "source": [
    "Como se pueden observar en el grafico, las colas de los boxplot son muy largas, esto nos da la pauta de que existe una gran cantidad de valores atipicos que pueden sesgar nuestros modelos.\n",
    "\n",
    "Luego analizamos como se comportan los precios en funcion a los tipos de propiedades y a las localidades mas frecuentes:"
   ]
  },
  {
   "cell_type": "code",
   "execution_count": 16,
   "metadata": {
    "scrolled": false
   },
   "outputs": [
    {
     "data": {
      "text/plain": [
       "Text(0.5, 1.0, 'Relacion tipo de propiedad y precio')"
      ]
     },
     "execution_count": 16,
     "metadata": {},
     "output_type": "execute_result"
    },
    {
     "data": {
      "image/png": "[encoded data removed]",
      "text/plain": [
       "<Figure size 1080x504 with 1 Axes>"
      ]
     },
     "metadata": {
      "needs_background": "light"
     },
     "output_type": "display_data"
    }
   ],
   "source": [
    "plt.figure(figsize=(15,7))\n",
    "grafico_pro = sns.boxplot(y=(data.price/1000), x=data.property_type)\n",
    "grafico_pro.set(ylim=(0, 1000))\n",
    "grafico_pro.set_xlabel(\"Tipo de propiedad\")\n",
    "grafico_pro.set_ylabel(\"Precio en miles de USD\")\n",
    "grafico_pro.set_title(\"Relacion tipo de propiedad y precio\")\n"
   ]
  },
  {
   "cell_type": "code",
   "execution_count": 18,
   "metadata": {
    "scrolled": true
   },
   "outputs": [
    {
     "data": {
      "text/plain": [
       "Text(0.5, 1.0, 'Relacion localidades y precio')"
      ]
     },
     "execution_count": 18,
     "metadata": {},
     "output_type": "execute_result"
    },
    {
     "data": {
      "image/png": "[encoded data removed]",
      "text/plain": [
       "<Figure size 720x504 with 1 Axes>"
      ]
     },
     "metadata": {
      "needs_background": "light"
     },
     "output_type": "display_data"
    }
   ],
   "source": [
    "plt.figure(figsize=(10,7))\n",
    "grafico_l3 = sns.boxplot(y=(data.price/1000), x=data.l3, order=data.l3.value_counts().head(15).index)\n",
    "grafico_l3.set(ylim=(0, 700))\n",
    "\n",
    "plt.xticks(rotation=45)\n",
    "\n",
    "plt.xlabel(\"Localidades\")\n",
    "plt.ylabel(\"Precio en miles de USD\")\n",
    "plt.title(\"Relacion localidades y precio\")"
   ]
  },
  {
   "cell_type": "markdown",
   "metadata": {},
   "source": [
    "Al igual que para Superficie Total, existen outliers que pueden comprometer el estudio de estas variables y sesgarlas es por eso que procederemos a eliminarlas.\n",
    "\n",
    "El metodo que utilizaremos seran los *Rangos Intercuartilicos*, que nos permitira quedarnos con el 99.3% de los valores y elimanar aquellos que esten fuera de este porcentaje. \n",
    "Aplicaremos la misma metodologia tanto para `price` como para `surface_total`."
   ]
  },
  {
   "cell_type": "code",
   "execution_count": 71,
   "metadata": {},
   "outputs": [],
   "source": [
    "#Eliminamos outliers de la varibale Superficie Total\n",
    "q1, q3 = data['surface_total'].quantile(0.25), data['surface_total'].quantile(0.75)\n",
    "IQR = q3 - q1\n",
    "\n",
    "upper = q3 + 1.5 * IQR\n",
    "lower = q1 - 1.5 * IQR \n",
    "\n",
    "data= data[(data.surface_total > lower) & (data.surface_total < upper)]"
   ]
  },
  {
   "cell_type": "markdown",
   "metadata": {},
   "source": [
    "Ademas es importante tener en cuenta que los valores de Superficie Cubierta no pueden ser mayores que Superficie Total, pero eso agregaremos un filtro que elimine aquellos valores que no cumplan con esta condicion:"
   ]
  },
  {
   "cell_type": "code",
   "execution_count": 72,
   "metadata": {},
   "outputs": [],
   "source": [
    "data= data[data[\"surface_covered\"] <= data[\"surface_total\"]]"
   ]
  },
  {
   "cell_type": "code",
   "execution_count": 73,
   "metadata": {},
   "outputs": [],
   "source": [
    "#Eliminamos outliers para la variable Precio\n",
    "q1, q3 = data['price'].quantile(0.25), data['price'].quantile(0.75)\n",
    "IQR_price = q3 - q1\n",
    "\n",
    "upper_price = q3 + 1.5 * IQR_price\n",
    "lower_price = q1 - 1.5 * IQR_price\n",
    "\n",
    "data = data[(data.price > lower_price) & (data.price < upper_price)]"
   ]
  },
  {
   "cell_type": "markdown",
   "metadata": {
    "id": "BJ-XiUsvC4Oh"
   },
   "source": [
    "**Valores Faltantes**: Imprimimos en pantalla los nombres de las columnas y cuántos valores faltantes hay por columna."
   ]
  },
  {
   "cell_type": "code",
   "execution_count": 74,
   "metadata": {
    "id": "1QletBbgC4Oi",
    "scrolled": true
   },
   "outputs": [
    {
     "data": {
      "text/plain": [
       "created_on         0.000000\n",
       "l1                 0.000000\n",
       "l2                 0.000000\n",
       "l3                 0.000000\n",
       "rooms              0.000000\n",
       "bedrooms           0.000000\n",
       "bathrooms          0.013499\n",
       "surface_total      0.000000\n",
       "surface_covered    0.000000\n",
       "price              0.000000\n",
       "property_type      0.000000\n",
       "dtype: float64"
      ]
     },
     "execution_count": 74,
     "metadata": {},
     "output_type": "execute_result"
    }
   ],
   "source": [
    "data_filtrada.isnull().sum()/len(data)"
   ]
  },
  {
   "cell_type": "code",
   "execution_count": 45,
   "metadata": {},
   "outputs": [
    {
     "data": {
      "text/plain": [
       "array(['Departamento', 'PH', 'Casa', 'Lote', 'Casa de campo', 'Oficina',\n",
       "       'Otro', 'Local comercial', 'Cochera', 'Depósito'], dtype=object)"
      ]
     },
     "execution_count": 45,
     "metadata": {},
     "output_type": "execute_result"
    }
   ],
   "source": [
    "#Tipo de propiedades publicadas\n",
    "data[\"property_type\"].unique()"
   ]
  },
  {
   "cell_type": "markdown",
   "metadata": {},
   "source": [
    "Como se muestra en la celda anterior, solo existe 1 variable con datos faltantes:`bathrooms`. El faltante de estos valores puede deberse a distintas razones.\n",
    "Por ejemplo, en este caso, puede deberse al tipos de propiedad como cocheras y lotes (los cuales no poseen baños) esto no significa que falten valores si no que su valor es 0. "
   ]
  },
  {
   "cell_type": "code",
   "execution_count": 75,
   "metadata": {},
   "outputs": [],
   "source": [
    "#Llenamos los valores faltantes con el numero 0\n",
    "data.bathrooms.fillna(0, inplace=True)"
   ]
  },
  {
   "cell_type": "code",
   "execution_count": 81,
   "metadata": {
    "scrolled": true
   },
   "outputs": [
    {
     "data": {
      "text/plain": [
       "created_on         0.0\n",
       "l1                 0.0\n",
       "l2                 0.0\n",
       "l3                 0.0\n",
       "rooms              0.0\n",
       "bedrooms           0.0\n",
       "bathrooms          0.0\n",
       "surface_total      0.0\n",
       "surface_covered    0.0\n",
       "price              0.0\n",
       "property_type      0.0\n",
       "dtype: float64"
      ]
     },
     "execution_count": 81,
     "metadata": {},
     "output_type": "execute_result"
    }
   ],
   "source": [
    "#Corroboramos que no haya faltantes\n",
    "data.isnull().sum()/len(data)"
   ]
  },
  {
   "cell_type": "markdown",
   "metadata": {},
   "source": [
    "**Discretizacion de variables**\n",
    "\n",
    "Para poder hacer uso de las varibles categoricas en nuestros algoritmos, vamos a discretizar las mismas, es decir, pasar estos datos a numeros para que sean mas interpretables para nuestros modelos"
   ]
  },
  {
   "cell_type": "code",
   "execution_count": 77,
   "metadata": {},
   "outputs": [],
   "source": [
    "#Importamos OneHotEncoder\n",
    "from sklearn.preprocessing import OneHotEncoder\n",
    "#https://scikit-learn.org/stable/modules/generated/sklearn.preprocessing.OneHotEncoder.html"
   ]
  },
  {
   "cell_type": "code",
   "execution_count": null,
   "metadata": {},
   "outputs": [],
   "source": [
    "tipo_propiedad = [\"Departamento\", \"PH\", \"Casa\"]\n",
    "enc = preprocessing.OneHotEncoder(categories=tipo_propiedad)\n",
    "X = [[\"\"], ['female', 'from Europe', 'uses Firefox']]"
   ]
  },
  {
   "cell_type": "code",
   "execution_count": 51,
   "metadata": {},
   "outputs": [
    {
     "ename": "AttributeError",
     "evalue": "'DataFrame' object has no attribute 'property_type'",
     "output_type": "error",
     "traceback": [
      "\u001b[1;31m---------------------------------------------------------------------------\u001b[0m",
      "\u001b[1;31mAttributeError\u001b[0m                            Traceback (most recent call last)",
      "\u001b[1;32m<ipython-input-51-0e85f07ea68a>\u001b[0m in \u001b[0;36m<module>\u001b[1;34m\u001b[0m\n\u001b[0;32m      1\u001b[0m \u001b[1;31m#Visualizamos los resultados\u001b[0m\u001b[1;33m\u001b[0m\u001b[1;33m\u001b[0m\u001b[1;33m\u001b[0m\u001b[0m\n\u001b[1;32m----> 2\u001b[1;33m \u001b[0mdata\u001b[0m\u001b[1;33m.\u001b[0m\u001b[0mproperty_type\u001b[0m\u001b[1;33m.\u001b[0m\u001b[0mhead\u001b[0m\u001b[1;33m(\u001b[0m\u001b[1;33m)\u001b[0m\u001b[1;33m\u001b[0m\u001b[1;33m\u001b[0m\u001b[0m\n\u001b[0m",
      "\u001b[1;32m~\\anaconda3\\lib\\site-packages\\pandas\\core\\generic.py\u001b[0m in \u001b[0;36m__getattr__\u001b[1;34m(self, name)\u001b[0m\n\u001b[0;32m   5137\u001b[0m             \u001b[1;32mif\u001b[0m \u001b[0mself\u001b[0m\u001b[1;33m.\u001b[0m\u001b[0m_info_axis\u001b[0m\u001b[1;33m.\u001b[0m\u001b[0m_can_hold_identifiers_and_holds_name\u001b[0m\u001b[1;33m(\u001b[0m\u001b[0mname\u001b[0m\u001b[1;33m)\u001b[0m\u001b[1;33m:\u001b[0m\u001b[1;33m\u001b[0m\u001b[1;33m\u001b[0m\u001b[0m\n\u001b[0;32m   5138\u001b[0m                 \u001b[1;32mreturn\u001b[0m \u001b[0mself\u001b[0m\u001b[1;33m[\u001b[0m\u001b[0mname\u001b[0m\u001b[1;33m]\u001b[0m\u001b[1;33m\u001b[0m\u001b[1;33m\u001b[0m\u001b[0m\n\u001b[1;32m-> 5139\u001b[1;33m             \u001b[1;32mreturn\u001b[0m \u001b[0mobject\u001b[0m\u001b[1;33m.\u001b[0m\u001b[0m__getattribute__\u001b[0m\u001b[1;33m(\u001b[0m\u001b[0mself\u001b[0m\u001b[1;33m,\u001b[0m \u001b[0mname\u001b[0m\u001b[1;33m)\u001b[0m\u001b[1;33m\u001b[0m\u001b[1;33m\u001b[0m\u001b[0m\n\u001b[0m\u001b[0;32m   5140\u001b[0m \u001b[1;33m\u001b[0m\u001b[0m\n\u001b[0;32m   5141\u001b[0m     \u001b[1;32mdef\u001b[0m \u001b[0m__setattr__\u001b[0m\u001b[1;33m(\u001b[0m\u001b[0mself\u001b[0m\u001b[1;33m,\u001b[0m \u001b[0mname\u001b[0m\u001b[1;33m:\u001b[0m \u001b[0mstr\u001b[0m\u001b[1;33m,\u001b[0m \u001b[0mvalue\u001b[0m\u001b[1;33m)\u001b[0m \u001b[1;33m->\u001b[0m \u001b[1;32mNone\u001b[0m\u001b[1;33m:\u001b[0m\u001b[1;33m\u001b[0m\u001b[1;33m\u001b[0m\u001b[0m\n",
      "\u001b[1;31mAttributeError\u001b[0m: 'DataFrame' object has no attribute 'property_type'"
     ]
    }
   ],
   "source": [
    "#Visualizamos los resultados\n",
    "data.property_type.head()"
   ]
  },
  {
   "cell_type": "markdown",
   "metadata": {
    "id": "bXSMm-aOC4O-"
   },
   "source": [
    "**Checkpoint:** deberías tener un dataset con 91485 instacias, 19 columnas.\n",
    "\n",
    "6. **Distribuciones y relaciones de a pares:** Estudia la distribución y las relaciones de a pares de las variables `rooms`, `bedrooms`, `bathrooms`, `surface_total`, `surface_covered`, `price` para cada tipo de propiedad. Para ello, ten en cuenta:\n",
    "    1. Obtiene estadísticos que te sirvan para tener una primera idea de los valores que abarcan estas variables. ¿Cuáles crees que toman valores que tal vez no tengan mucho sentido?\n",
    "    1. Algunas instancias tienen valores de superficie (`surface_total`) muy grandes y dificultan la correcta visualización. Estudia la distribución de esa variable y filtra por un valor razonable que te permita obtener gráficos comprensibles. Puede ser útil un boxplot para determinar un rango razonable.\n",
    "    1. Lo mismo ocurre con valores de superficie total muy chico.\n",
    "    1. Las propiedades no pueden tener `surface_covered` mayor a `surface_total`. Si eso sucede, debes filtrar esas instancias.\n",
    "    1. El rango de precios que toman las propiedades es muy amplio. Estudia la distribución de esa variable y filtra por un valor razonable que te permita obtener gráficos comprensibles. Puede ser útil un boxplot para determinar un rango razonable.\n",
    "    1. Una vez filtrado el dataset, puedes utilizar la función `pairplot` de Seaborn."
   ]
  },
  {
   "cell_type": "markdown",
   "metadata": {},
   "source": [
    "Estudio de la distribución y las relaciones de las variables: `rooms`, `bedrooms`, `bathrooms`, `surface_total`, `surface_covered`, `price` para cada tipo de propiedad."
   ]
  },
  {
   "cell_type": "markdown",
   "metadata": {},
   "source": [
    "Observaremos los datos mas relevantes para tener una primera impresion de estas variables"
   ]
  },
  {
   "cell_type": "code",
   "execution_count": null,
   "metadata": {
    "scrolled": true
   },
   "outputs": [],
   "source": [
    "data.describe()"
   ]
  },
  {
   "cell_type": "markdown",
   "metadata": {},
   "source": [
    "Con el cuadro presentado anteriormente podemos observar que las variables *Precio* y *Superficie* tiene una desviacion estandar muy grande, lo que significa que sus valores estan muy dispersos, ademas, existe una gran diferencia entre los valores minimos y maximos. Esto puede generar inconvientes a la hora de predecir los precios para las distintas propiedades. \n",
    "\n",
    "Analizaremos en un primer momento la variable Superficie Total en relacion con los 15 barrios mas publicados.\n"
   ]
  },
  {
   "cell_type": "code",
   "execution_count": null,
   "metadata": {},
   "outputs": [],
   "source": [
    "barrios= data[\"l3\"].value_counts()[:15].index\n",
    "\n",
    "plt.figure(figsize=(15, 10))\n",
    "sns.boxplot(data = data[data[\"l3\"].isin(barrios)], x = \"l3\", y = \"surface_total\")\n",
    "\n",
    "plt.title(\"Superficie total de los 15 barrios con más publicaciones en CABA\")\n",
    "plt.xlabel(\"Barrios\")\n",
    "plt.ylabel(\"Superficie total\")\n",
    "plt.ylim(0, 1000)\n",
    "plt.xticks(rotation=45)"
   ]
  },
  {
   "cell_type": "markdown",
   "metadata": {},
   "source": [
    "Como se pueden observar en en grafico, las colas de los boxplot son muy largas, esto nos da la pauta de que existe una gran cantidad de valores atipicos que pueden sesgar la aplicacion del modelo."
   ]
  },
  {
   "cell_type": "markdown",
   "metadata": {},
   "source": [
    "A continuacion, con los siguientes graficos veremos como se comportan los precios en funcion a los tipos de propiedades, cantidad de habitaciones y localidades mas frecuentes:"
   ]
  },
  {
   "cell_type": "code",
   "execution_count": null,
   "metadata": {
    "scrolled": true
   },
   "outputs": [],
   "source": [
    "plt.figure(figsize=(7,7))\n",
    "grafico_pro = sns.boxplot(y=(data.price/1000), x=data.property_type)\n",
    "grafico_pro.set(ylim=(0, 1000))\n",
    "grafico_pro.set_xlabel(\"Tipo de propiedad\")\n",
    "grafico_pro.set_ylabel(\"Precio en miles de USD\")\n",
    "grafico_pro.set_title(\"Relacion tipo de propiedad y precio\")\n"
   ]
  },
  {
   "cell_type": "code",
   "execution_count": null,
   "metadata": {
    "scrolled": false
   },
   "outputs": [],
   "source": [
    "plt.figure(figsize=(10,7))\n",
    "grafico_l3 = sns.boxplot(y=(data.price/1000), x=data.l3, order=data.l3.value_counts().head(10).index)\n",
    "grafico_l3.set(ylim=(0, 700))\n",
    "\n",
    "plt.xticks(rotation=45)\n",
    "\n",
    "plt.xlabel(\"Localidades\")\n",
    "plt.ylabel(\"Precio en miles de USD\")\n",
    "plt.title(\"Relacion localidades y precio\")"
   ]
  },
  {
   "cell_type": "markdown",
   "metadata": {},
   "source": [
    "En el grafico anterior se busco conocer la relacion existente entre los precios de las propiedades y las 10 localidades con mas publicaciones."
   ]
  },
  {
   "cell_type": "code",
   "execution_count": null,
   "metadata": {
    "scrolled": true
   },
   "outputs": [],
   "source": [
    "plt.figure(figsize=(10,7))\n",
    "grafico_hab = sns.boxplot(data=data, y=(data.price/1000), x=data.rooms, order=data.rooms.value_counts().head(18).index )\n",
    "grafico_hab.set(ylim=(0, 1000))\n",
    "\n",
    "grafico_hab.set_title(\"Precio según cantidad de habitaciones\")\n",
    "grafico_hab.set_ylabel(\"Precio (en miles de USD)\")\n",
    "grafico_hab.set_xlabel(\"Cantidad de habitaciones\")"
   ]
  },
  {
   "cell_type": "markdown",
   "metadata": {},
   "source": [
    "Por ultimo en este grafico vemos la relacion entre los precios y los distintas cantidades de habitaciones.\n",
    "Como conclusion, y como puedimos observar en los ultimos graficos, al igual que en la variable superficie total, existe una gran dispersion de valores (Precio) que dificultan su entendimiento y modelaje."
   ]
  },
  {
   "cell_type": "markdown",
   "metadata": {},
   "source": [
    "Por ultimo, realizaremos un pairplot filtrando las variables de interes (rooms, bedrooms, bathrooms, surface_covered, surface_total y price)"
   ]
  },
  {
   "cell_type": "code",
   "execution_count": null,
   "metadata": {
    "scrolled": true
   },
   "outputs": [],
   "source": [
    "sns.pairplot(data[[\"rooms\", \"bedrooms\", \n",
    "                                    \"bathrooms\", \"surface_total\", \n",
    "                                    \"surface_covered\", \"price\", \"property_type\"]], hue = \"property_type\")\n",
    "plt.show()"
   ]
  },
  {
   "cell_type": "markdown",
   "metadata": {},
   "source": [
    "Este grafico busca representar la relacion entre las variables mas relevantes y como es la dispersion de sus datos teniendo en cuenta el tipo de propiedad (donde el azul corresponde a los departamentos, verde a las casa y naranja a los PH).\n",
    "\n",
    "Si nos enfocamos en los graficos ubicados en la diagonal podremos percebir que tan sesgados estan los datos en funcion a la media (promedio). Por ejemplo,con respecto a la variable `price` (precio) podemos decir que las Casas poseen una distribucion normal en relacion a la media, mientras que los Departamentos y PH poseen un sesgo negativo, es decir, los valores observados son mas bajos que el promedio."
   ]
  },
  {
   "cell_type": "markdown",
   "metadata": {
    "id": "B2EMvGFoC4PF"
   },
   "source": [
    "7. **Correlaciones:** Estudia la correlación entre las variables `rooms`, `bedrooms`, `bathrooms`, `surface_total`, `surface_covered`, `price`. ¿Cuáles son las mejores variables para predecir el precio?¿Qué diferencias encuentras según cada tipo de propiedad?"
   ]
  },
  {
   "cell_type": "code",
   "execution_count": null,
   "metadata": {
    "id": "4DJ-aGD-C4PG",
    "scrolled": true
   },
   "outputs": [],
   "source": [
    "data_corr = data_caba[[\"rooms\", \"bedrooms\", \"bathrooms\", \"surface_total\", \"surface_covered\", \"price\"]]\n",
    "\n",
    "corr = data_corr.corr()\n",
    "plt.figure(figsize=(5,5))\n",
    "sns.heatmap(corr, cbar = True,  square = True, annot=True, fmt= '.2f',annot_kws={'size': 13},\n",
    "           xticklabels= data_corr.columns, \n",
    "           yticklabels= data_corr.columns,\n",
    "           cmap= 'coolwarm')\n",
    "plt.xticks(rotation = 45)\n",
    "plt.yticks(rotation = 45)\n",
    "plt.show()"
   ]
  },
  {
   "cell_type": "code",
   "execution_count": null,
   "metadata": {
    "scrolled": true
   },
   "outputs": [],
   "source": [
    "data_caba.shape"
   ]
  },
  {
   "cell_type": "markdown",
   "metadata": {},
   "source": [
    "Mapa de precios en CABA:"
   ]
  },
  {
   "cell_type": "code",
   "execution_count": null,
   "metadata": {},
   "outputs": [],
   "source": [
    "import plotly.express as px"
   ]
  },
  {
   "cell_type": "code",
   "execution_count": null,
   "metadata": {
    "scrolled": true
   },
   "outputs": [],
   "source": [
    "fig = px.scatter_mapbox(data_caba, lat=\"lat\", lon=\"lon\", hover_name=\"property_type\",\n",
    "                        color=\"price\",size=\"surface_total\",\n",
    "                        color_continuous_scale=px.colors.cyclical.Edge, size_max=8, zoom=10)\n",
    "fig.update_layout(mapbox_style=\"open-street-map\")\n",
    "fig.update_layout(margin={\"r\":0,\"t\":0,\"l\":0,\"b\":0})\n",
    "fig.show()"
   ]
  },
  {
   "cell_type": "markdown",
   "metadata": {},
   "source": [
    "En este grafico podemos observar aquellas zonas mas caras de CABA en funcion a al color con el que estan pintadas. Por ejemplo donde encontramos un tono rojo oscuro son las publicaciones de propiedades mas caras, el color azul oscuro son aquellas mas economicas."
   ]
  },
  {
   "cell_type": "markdown",
   "metadata": {
    "id": "AUBaOrNYC4PK"
   },
   "source": [
    "### 2.1 Desafío\n",
    "\n",
    "En el dataset provisto hay mucha información, más allá del problema planteado. Propone una pregunta que pueda ser respondida por el dataset e intenta responderla.¿Cuáles son los sesgos de la respuesta obtenida?(¿Cuán generalizable es la respuesta obtenida?)¿Necesitas información complementaria?¿Cómo la obtendrías?\n",
    "\n",
    "Por ejemplo: ¿Cuál es el barrio más caro de Buenos Aires? Probablemente puedas responder esta pregunta con este dataset. Pero podria ocurrir que la respuesta esté sesgada. ¿Cómo? Tal vez las propiedades más caras no se publican de forma online, sino que utilizan otro canal de venta.\n"
   ]
  },
  {
   "cell_type": "markdown",
   "metadata": {
    "id": "CJ_DINqMC4PM"
   },
   "source": [
    "*Promedio del metro cuadrado para la Departamentos de la localidad de Palermo:*\n"
   ]
  },
  {
   "cell_type": "code",
   "execution_count": null,
   "metadata": {
    "scrolled": true
   },
   "outputs": [],
   "source": [
    "data_depto_palermo = data_caba[data_caba.l3.isin([\"Palermo\"]) & data_caba.property_type.isin([\"Departamento\"])]"
   ]
  },
  {
   "cell_type": "code",
   "execution_count": null,
   "metadata": {
    "scrolled": true
   },
   "outputs": [],
   "source": [
    "m2 = (data_depto_palermo.price)/(data_depto_palermo.surface_total)"
   ]
  },
  {
   "cell_type": "code",
   "execution_count": null,
   "metadata": {},
   "outputs": [],
   "source": [
    "promedio_m2= m2.mean()\n",
    "print(\"Promedio del metro cuadrado para Departamentos en Palermo es de $\",promedio_m2)"
   ]
  },
  {
   "cell_type": "markdown",
   "metadata": {},
   "source": [
    "*Una desventaja de este dato es que el mismo puede estar sesgado por los valores maximos y minimos tanto del precio como de la superficie total.*"
   ]
  },
  {
   "cell_type": "markdown",
   "metadata": {
    "id": "ULhoMAo_C4PP"
   },
   "source": [
    "### 3. Machine Learning\n",
    "\n",
    "En esta sección, debes entrenar dos modelos de Machine Learning - uno de vecinos más cercanos y otro de árboles de decisión -  para predecir el precio de las propiedades tipo `Departamento`, `PH` y `Casa`  en la Ciudad Autónoma de Buenos Aires (`Capital Federal`). Para ello, no debes olvidarte de:\n",
    "\n",
    "* Elegir una métrica apropiada para evaluar los resultados de los modelos.\n",
    "* Seleccionar las variables predictoras (`X`) y la variable a predecir (`y`). \n",
    "* Realizar un Train/Test split de los datos.\n",
    "* Generar un modelo *benchmark* y evaluarlo.\n",
    "* Entrenar un modelo de vecinos más cercanos y un modelo de árbol de decisión con hiperparámetros iniciales de su elección.\n",
    "* Evaluar los modelos obtenidos. Para ello, evalúa la métrica elegida en el conjunto de Test y en el conjunto de Train. También, realiza gráficos de valores reales vs. valores predichos.\n",
    "* Mejorar el desempeño de sus modelos optimizando el número de vecinos y la profundidad del árbol, respectivamente.\n",
    "* Entre los modelos entrenados, ¿cuál elegirías para utilizar?¿Por qué? \n",
    "* Ser **crítico/a** con la metodología utilizada. Por ejemplo, responde las siguientes preguntas: ¿Qué información no estás usando que podría ayudar al modelo?¿Qué información puede estar demás o repetida?\n",
    "\n",
    "Estos lineamientos corresponden al **mínimo entregable** de esta sección.\n",
    "\n",
    "\n",
    "**Importante:** para asegurarnos que trabajes con un dataset apropiados, debes volver a cargar los datos y realizar el siguiente filtrado:\n",
    "\n",
    "1. Selecciona aquellas propiedades en Capital Federal y cuyo tipo de propiedad es Departamento, PH o Casa.\n",
    "1. Selecciona aquellas propiedades cuya superficie total es menor a 1000 m2 y mayor a 15 m2.\n",
    "1. Selecciona aquellas propiedades cuya precio es menor 4000000 dólares.\n",
    "1. Selecciona las columnas `rooms`, `bedrooms`, `bathrooms`, `surface_total`, `surface_covered` y `price`.\n",
    "1. Descarta aquellas instacias con valores faltantes.\n",
    "\n",
    "**Checkpoint:** deberías obtener un dataset con 81019 instacias y 6 columnas."
   ]
  },
  {
   "cell_type": "code",
   "execution_count": null,
   "metadata": {
    "id": "QSqa1vJQC4PR",
    "scrolled": true
   },
   "outputs": [],
   "source": [
    "data = pd.read_csv('DS_Proyecto_01_Datos_Properati 1.csv')\n",
    "data.head()"
   ]
  },
  {
   "cell_type": "markdown",
   "metadata": {},
   "source": [
    "Filtrados :"
   ]
  },
  {
   "cell_type": "code",
   "execution_count": null,
   "metadata": {
    "scrolled": true
   },
   "outputs": [],
   "source": [
    "#Region con mas publicaciones (Capital Federal) y los 3 tipos de propiedades mas frecuentes (Ph, Casa y Departamento)\n",
    "data_filtrado= data[data.property_type.isin([\"PH\",\"Casa\",\"Departamento\"]) & data.l2.isin([\"Capital Federal\"])]\n",
    "#Superficie total debe ser menor que 1000m2 y mayor que 15m2\n",
    "data_filtrado=data_filtrado[(data_filtrado.surface_total<=1000) & (data_filtrado.surface_total>=15)]\n",
    "#Precios menores que $4.000.000\n",
    "data_filtrado=data_filtrado[data_filtrado.price <= 4000000]\n",
    "#Seleccion de variables relevantes de estudio\n",
    "data_filtrado = data_filtrado[[\"rooms\", \"bedrooms\", \"bathrooms\", \"surface_total\", \"surface_covered\", \"price\"]]\n",
    "#Valores nulos\n",
    "data_filtrado.isna().sum()\n",
    "#Elimanar datos nulos\n",
    "data_filtrado= data_filtrado.dropna()"
   ]
  },
  {
   "cell_type": "markdown",
   "metadata": {},
   "source": [
    "Corroboramos que se haya filtrado correctamente"
   ]
  },
  {
   "cell_type": "code",
   "execution_count": null,
   "metadata": {
    "scrolled": false
   },
   "outputs": [],
   "source": [
    "data_filtrado.describe()"
   ]
  },
  {
   "cell_type": "code",
   "execution_count": null,
   "metadata": {},
   "outputs": [],
   "source": [
    "data_filtrado.shape"
   ]
  },
  {
   "cell_type": "markdown",
   "metadata": {},
   "source": [
    "Modelo **Arboles de Decision**"
   ]
  },
  {
   "cell_type": "markdown",
   "metadata": {},
   "source": [
    "Importamos Arboles de Decision Regresion:"
   ]
  },
  {
   "cell_type": "code",
   "execution_count": null,
   "metadata": {},
   "outputs": [],
   "source": [
    "from sklearn.tree import DecisionTreeRegressor"
   ]
  },
  {
   "cell_type": "markdown",
   "metadata": {},
   "source": [
    "Como variables predictivas se eliminaron cantidad de habitaciones (Rooms), Superficie cubierta (Surface_covered) y Precio (price). Ya que presentaban alta correlacion con otras variables y esto generaba redundancia en el modelo."
   ]
  },
  {
   "cell_type": "code",
   "execution_count": null,
   "metadata": {},
   "outputs": [],
   "source": [
    "X, y = data_filtrado.drop([\"surface_covered\",\"rooms\",\"price\"], axis=1), data_filtrado[\"price\"]"
   ]
  },
  {
   "cell_type": "markdown",
   "metadata": {},
   "source": [
    "Separamos el data set en conjunto de entrenamiento (Train) y conjunto de testeo (Test), donde el 70% corresponde al grupo de Train y un 30% al Test"
   ]
  },
  {
   "cell_type": "code",
   "execution_count": null,
   "metadata": {},
   "outputs": [],
   "source": [
    "from sklearn.model_selection import train_test_split\n",
    "X_train, X_test, y_train, y_test = train_test_split(X, y, train_size=0.7,test_size=0.3, random_state=0)"
   ]
  },
  {
   "cell_type": "markdown",
   "metadata": {},
   "source": [
    "Definimos como metrica de evavluacion el RMSE (Raiz del error cuadratico medio). Este nos indica cuan cerca estan los datos observados de los valores predichos por el modelo. Dedido a que es un error, el mismo se busca minimizar, es decir, valores menores de RMSE indican un mejor ajuste. Para poder comparar los modelos ultilizaremos la misma metrica de evalucion en todos ellos."
   ]
  },
  {
   "cell_type": "code",
   "execution_count": null,
   "metadata": {},
   "outputs": [],
   "source": [
    "from sklearn.metrics import mean_squared_error"
   ]
  },
  {
   "cell_type": "markdown",
   "metadata": {},
   "source": [
    "Evaluamos las distintas profundidades del arbol con respecto al RMSE"
   ]
  },
  {
   "cell_type": "code",
   "execution_count": null,
   "metadata": {
    "scrolled": false
   },
   "outputs": [],
   "source": [
    "#Definimos las lisltas vacias para los valores de RSME\n",
    "lista_tree_train=[]\n",
    "lista_tree_test=[]\n",
    "\n",
    "#Definimos la lista los distintos valores de profundidad del arbol de decision\n",
    "max_depths=[1,2,3,4,5,6,7,8,9,10,12,14,20]\n",
    "\n",
    "# Generamos un loop sobre los distintos valores de profundidad del arbol\n",
    "for max_depth in max_depths:\n",
    "    \n",
    "    #Definimos el modelo de arbol de decision\n",
    "    tree=DecisionTreeRegressor(max_depth=max_depth)\n",
    "    \n",
    "    #Entrenamos el modelo\n",
    "    tree.fit(X_train,y_train)\n",
    "    \n",
    "    #Predecir el modelo y calcular el RMSE de entrenamiento\n",
    "    y_train_pred=tree.predict(X_train)\n",
    "    rmse_train_tree = np.sqrt(mean_squared_error(y_train, y_train_pred))\n",
    "    \n",
    "    #Predecimos el modelo y evaluamos el RMSE de evaluacion\n",
    "    y_test_pred=tree.predict(X_test)\n",
    "    rmse_test_tree = np.sqrt(mean_squared_error(y_test, y_test_pred))\n",
    "    \n",
    "    #Agregamos la informacion a las listas\n",
    "    lista_tree_train.append(rmse_train_tree)\n",
    "    lista_tree_test.append(rmse_test_tree)\n",
    "    \n",
    "    #Observamos los valores obtenidos para cada max_depth\n",
    "    print(\"RMSE Train:\", rmse_train_tree)\n",
    "    print(\"RMSE Test:\", rmse_test_tree)\n",
    "    \n",
    "    "
   ]
  },
  {
   "cell_type": "markdown",
   "metadata": {},
   "source": [
    "Graficamos la curvas de validacion para observar la profundidad del arbol ideal:"
   ]
  },
  {
   "cell_type": "code",
   "execution_count": null,
   "metadata": {
    "scrolled": true
   },
   "outputs": [],
   "source": [
    "plt.figure(figsize=(7,5))\n",
    "plt.plot(max_depths,lista_tree_train,\"o-\",label=\"Curva de Entrenamiento\")\n",
    "plt.plot(max_depths,lista_tree_test,\"o-\",label=\"Curva de Testeo\")\n",
    "plt.grid()\n",
    "plt.legend()\n",
    "plt.xlabel(\"Profundidad del arbol\")\n",
    "plt.ylabel(\"RMSE\")"
   ]
  },
  {
   "cell_type": "markdown",
   "metadata": {},
   "source": [
    "Conclusion: La profundidad del arbol optima es de 6 (con un RMSE de entrenamiento de: 175978.52 y un RMSE de testeo de 175000.03), en este punto podemos observar que si incrementamos la profundidad el RMSE de la curva de testeo comienza a ser mayor que el de entrenamiento y mientras el segundo continua decreciendo el primero comienza a estabilizarse. "
   ]
  },
  {
   "cell_type": "markdown",
   "metadata": {},
   "source": [
    "Modelo **K-vecinos mas cercanos**"
   ]
  },
  {
   "cell_type": "markdown",
   "metadata": {},
   "source": [
    "Separamos nuevamente nuestras variables predictivas y target:"
   ]
  },
  {
   "cell_type": "code",
   "execution_count": null,
   "metadata": {},
   "outputs": [],
   "source": [
    "X, y = data_filtrado.drop([\"surface_covered\",\"rooms\",\"price\"], axis=1), data_filtrado[\"price\"]"
   ]
  },
  {
   "cell_type": "markdown",
   "metadata": {},
   "source": [
    "Importamos el modelo:"
   ]
  },
  {
   "cell_type": "code",
   "execution_count": null,
   "metadata": {},
   "outputs": [],
   "source": [
    "from sklearn.neighbors import KNeighborsRegressor"
   ]
  },
  {
   "cell_type": "markdown",
   "metadata": {},
   "source": [
    "Evaluamos el numero de vecinos optimo:"
   ]
  },
  {
   "cell_type": "code",
   "execution_count": null,
   "metadata": {},
   "outputs": [],
   "source": [
    "#Definimos las lisltas vacias para los valores de RSME\n",
    "lista_knn_train=[]\n",
    "lista_knn_test=[]\n",
    "\n",
    "#Definimos la lista los distintas cantidades de vecinos\n",
    "n_neighbors=[1,2,3,4,5,6,7,8,9,10,12,14,20]\n",
    "\n",
    "# Generamos un loop sobre los distintos valores\n",
    "for n_neighbors in n_neighbors:\n",
    "    \n",
    "    #Definimos el modelo de k-vecinos mas cercanos\n",
    "    knn = KNeighborsRegressor(n_neighbors= n_neighbors)\n",
    "    \n",
    "    #Entrenamos el modelo\n",
    "    knn.fit(X_train,y_train)\n",
    "    \n",
    "    #Predecir el modelo y calcular el RMSE de entrenamiento\n",
    "    y_train_pred=knn.predict(X_train)\n",
    "    rmse_train_knn = np.sqrt(mean_squared_error(y_train, y_train_pred))\n",
    "    \n",
    "    #Predecimos el modelo y evaluamos el RMSE de evaluacion\n",
    "    y_test_pred=knn.predict(X_test)\n",
    "    rmse_test_knn = np.sqrt(mean_squared_error(y_test, y_test_pred))\n",
    "    \n",
    "    #Agregamos la informacion a las listas\n",
    "    lista_knn_train.append(rmse_train_knn)\n",
    "    lista_knn_test.append(rmse_test_knn)\n",
    "    \n",
    "    #Observamos los valores obtenidos para cada n_neigthbors\n",
    "    print(\"RMSE Train:\", rmse_train_knn)\n",
    "    print(\"RMSE Test:\", rmse_test_knn)\n",
    "    "
   ]
  },
  {
   "cell_type": "code",
   "execution_count": null,
   "metadata": {
    "scrolled": true
   },
   "outputs": [],
   "source": [
    "plt.figure(figsize=(7,5))\n",
    "plt.plot(max_depths, lista_knn_train,\"o-\",label=\"Curva de Entrenamiento\")\n",
    "plt.plot(max_depths, lista_knn_test,\"o-\",label=\"Curva de Testeo\")\n",
    "plt.grid()\n",
    "plt.legend()\n",
    "plt.xlabel(\"Cantidad de vecinos\")\n",
    "plt.ylabel(\"RMSE\")"
   ]
  },
  {
   "cell_type": "markdown",
   "metadata": {},
   "source": [
    "Conclusion: La cantidad de vecinos optima es de 3, tal y como podemos observar en el grafico a medidad que aumentan los vecinos se incrementa el error (RMSE). Sin embargo, KNN no resulta un modelo adecuado para predecir Precios ya que existe una gran diferencia entre los resultados de entrenamiento y de testeo."
   ]
  },
  {
   "cell_type": "markdown",
   "metadata": {},
   "source": [
    "Modelo **Regresion Lineal**"
   ]
  },
  {
   "cell_type": "code",
   "execution_count": null,
   "metadata": {},
   "outputs": [],
   "source": [
    "from sklearn import linear_model"
   ]
  },
  {
   "cell_type": "markdown",
   "metadata": {},
   "source": [
    "Separamos las variables predictivas de la variable target:"
   ]
  },
  {
   "cell_type": "code",
   "execution_count": null,
   "metadata": {},
   "outputs": [],
   "source": [
    "X, y = data_filtrado.drop([\"surface_covered\",\"rooms\",\"price\"], axis=1), data_filtrado[\"price\"]"
   ]
  },
  {
   "cell_type": "markdown",
   "metadata": {},
   "source": [
    "Definimos el modelo de regreion lineal:"
   ]
  },
  {
   "cell_type": "code",
   "execution_count": null,
   "metadata": {},
   "outputs": [],
   "source": [
    "lr= linear_model.LinearRegression()"
   ]
  },
  {
   "cell_type": "markdown",
   "metadata": {},
   "source": [
    "Entrenamos el modelo:"
   ]
  },
  {
   "cell_type": "code",
   "execution_count": null,
   "metadata": {},
   "outputs": [],
   "source": [
    "lr.fit(X_train, y_train)"
   ]
  },
  {
   "cell_type": "markdown",
   "metadata": {},
   "source": [
    "Realizamos la prediccion:"
   ]
  },
  {
   "cell_type": "code",
   "execution_count": null,
   "metadata": {},
   "outputs": [],
   "source": [
    "y_pred= lr.predict(X_test)"
   ]
  },
  {
   "cell_type": "markdown",
   "metadata": {},
   "source": [
    "Predecimos los modelos Train y Test y evaluamos el rendimiento utilizando la metrica RMSE:"
   ]
  },
  {
   "cell_type": "code",
   "execution_count": null,
   "metadata": {},
   "outputs": [],
   "source": [
    "y_train_pred=lr.predict(X_train)\n",
    "rmse_train_lr = np.sqrt(mean_squared_error(y_train, y_train_pred))\n",
    "print(\"RMSE Train: \", rmse_train_lr)\n",
    "    \n",
    "y_test_pred=lr.predict(X_test)\n",
    "rmse_test_lr = np.sqrt(mean_squared_error(y_test, y_test_pred))\n",
    "print(\"RMSE Test: \",rmse_test_lr)"
   ]
  },
  {
   "cell_type": "markdown",
   "metadata": {},
   "source": [
    "En el modelo de regresion lineal, si bien la diferencia entre los RMSE de entrenamiento y testeo no son significativos (se podria decir que el modelo predice de manera correcta), este posee un valor muy importante en terminos monetarios y superior a los modelos previamente probados."
   ]
  },
  {
   "cell_type": "markdown",
   "metadata": {},
   "source": [
    "**CONCLUSION GENERAL:**\n",
    "\n",
    "En terminos generales y tomando en cuenta el desempeño de los modelos utilizados, podemos decir que **Arboles de decision** (profundidad 6) es aquel que mejor predice los resultados con el menor error posible. \n",
    "\n",
    "Sin embargo, para una mejor prediccion de Precios, seria necesario incluir algunas variables como Localidad, incluir otras regiones geograficas (ademas de CABA) o hacer un tratamiento mas profundo de valores atipicos (ahondar en el porque y cual es el significado de estos).\n"
   ]
  }
 ],
 "metadata": {
  "colab": {
   "collapsed_sections": [],
   "name": "DS_Proyecto_01.ipynb",
   "provenance": []
  },
  "kernelspec": {
   "display_name": "Python 3",
   "language": "python",
   "name": "python3"
  },
  "language_info": {
   "codemirror_mode": {
    "name": "ipython",
    "version": 3
   },
   "file_extension": ".py",
   "mimetype": "text/x-python",
   "name": "python",
   "nbconvert_exporter": "python",
   "pygments_lexer": "ipython3",
   "version": "3.8.5"
  }
 },
 "nbformat": 4,
 "nbformat_minor": 1
}
